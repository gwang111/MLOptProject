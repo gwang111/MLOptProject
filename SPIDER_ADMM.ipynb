{
  "nbformat": 4,
  "nbformat_minor": 0,
  "metadata": {
    "colab": {
      "name": "SPIDER-ADMM.ipynb",
      "provenance": [],
      "collapsed_sections": [],
      "authorship_tag": "ABX9TyN39SOrcC312u9fKpKbkNHq"
    },
    "kernelspec": {
      "name": "python3",
      "display_name": "Python 3"
    },
    "language_info": {
      "name": "python"
    }
  },
  "cells": [
    {
      "cell_type": "code",
      "metadata": {
        "id": "bm1m2sVkexQS"
      },
      "source": [
        "import numpy as np"
      ],
      "execution_count": 1,
      "outputs": []
    },
    {
      "cell_type": "code",
      "metadata": {
        "id": "XyZTLfhPpBGM"
      },
      "source": [
        "# if we want to use pytorch to calculate the sgd of f(x)\n",
        "# class f(torch.nn.Module):"
      ],
      "execution_count": null,
      "outputs": []
    },
    {
      "cell_type": "code",
      "metadata": {
        "id": "o8GQ0PNsfC85"
      },
      "source": [
        "def lagrangian(x_k, y_k1, y_j, y_k, z_k): pass\n",
        "\n",
        "def lagrangian_hat(x, y_k1, z_k, v_k): pass"
      ],
      "execution_count": 2,
      "outputs": []
    },
    {
      "cell_type": "code",
      "metadata": {
        "id": "q3UlfJPkjcIh"
      },
      "source": [
        "def reg_vk(k, q, ...):\n",
        "    # use some sgd library?\n",
        "    if k % q == 0:\n",
        "        vk = ...\n",
        "    else:\n",
        "        vk = ...\n",
        "\n",
        "    return vk\n",
        "\n",
        "# implement later\n",
        "# def online_vk(k, q, ...):\n",
        "#     if k % q == 0:\n",
        "#         vk = ...\n",
        "#     else:\n",
        "#         vk = ...\n",
        "\n",
        "#     return vk"
      ],
      "execution_count": null,
      "outputs": []
    },
    {
      "cell_type": "code",
      "metadata": {
        "id": "RKCsRAiUf24m"
      },
      "source": [
        "# Let b1 = None unless performing online algo (rename if necessary)\n",
        "def spider_admm(b1, b2, q, K, n, p):\n",
        "    # init\n",
        "    x_k = ...\n",
        "    y_k = ...\n",
        "    j = ...\n",
        "    z_k = ...\n",
        "    \n",
        "    for k in range(K):\n",
        "        if b1 is None: \n",
        "            vk = reg_vk(k, q, ...)\n",
        "        else: \n",
        "            # implement later\n",
        "            # vk = online_vk(k, q, ...)\n",
        "        \n",
        "        # update k + 1 for y, x, z\n",
        "        # probably do not need separate k + 1 variables\n",
        "\n",
        "        # using lagrangian\n",
        "        lagrs = []\n",
        "        y_k = np.argmin(...)\n",
        "\n",
        "        # using lagrangian hat\n",
        "        lagr_hats = []\n",
        "        x_k = np.argmin(...)\n",
        "\n",
        "        z_k = ...\n",
        "\n",
        "    return [x_k, y_k, z_k]\n",
        "\n",
        "def online_spider_admm(b1, b2, q, K, n, p): \n",
        "    return spider_admm(b1, b2, q, K, n, p)"
      ],
      "execution_count": null,
      "outputs": []
    }
  ]
}