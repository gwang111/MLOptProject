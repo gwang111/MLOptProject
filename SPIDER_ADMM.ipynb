{
  "nbformat": 4,
  "nbformat_minor": 0,
  "metadata": {
    "colab": {
      "name": "SPIDER_ADMM.ipynb",
      "provenance": [],
      "collapsed_sections": []
    },
    "kernelspec": {
      "display_name": "Python 3",
      "language": "python",
      "name": "python3"
    },
    "language_info": {
      "codemirror_mode": {
        "name": "ipython",
        "version": 3
      },
      "file_extension": ".py",
      "mimetype": "text/x-python",
      "name": "python",
      "nbconvert_exporter": "python",
      "pygments_lexer": "ipython3",
      "version": "3.8.5"
    }
  },
  "cells": [
    {
      "cell_type": "code",
      "metadata": {
        "id": "wp9GGlT5rrVt"
      },
      "source": [
        "import matplotlib.pyplot as plt"
      ],
      "execution_count": 1,
      "outputs": []
    },
    {
      "cell_type": "code",
      "metadata": {
        "id": "grraT0MvrrVv"
      },
      "source": [
        "from sklearn.datasets import load_svmlight_file\n",
        "from scipy.sparse import csr_matrix\n",
        "import numpy as np\n",
        "\n",
        "# Supported files:\n",
        "# 1. a9a.txt\n",
        "# 2. w8a.txt\n",
        "# 3. ijcnn1\n",
        "# 4. covtype.libsvm.binary\n",
        "\n",
        "def data_loader(file_name='a9a.txt'):\n",
        "    # Load in data and get rid of last column\n",
        "    X, y = load_svmlight_file(file_name)\n",
        "    \n",
        "    # Convert to numpy array\n",
        "    X = X.todense()\n",
        "    return X, y\n",
        "\n"
      ],
      "execution_count": 2,
      "outputs": []
    },
    {
      "cell_type": "code",
      "metadata": {
        "colab": {
          "base_uri": "https://localhost:8080/"
        },
        "id": "rB82ybLerrVw",
        "outputId": "63bfc6ef-b800-4d17-a3ab-bab5b3b31333"
      },
      "source": [
        "X, y = data_loader('a9a.txt')\n",
        "\n",
        "print(X.shape)"
      ],
      "execution_count": 3,
      "outputs": [
        {
          "output_type": "stream",
          "name": "stdout",
          "text": [
            "(32561, 123)\n"
          ]
        }
      ]
    },
    {
      "cell_type": "code",
      "metadata": {
        "colab": {
          "base_uri": "https://localhost:8080/"
        },
        "id": "HaVpIisErrVx",
        "outputId": "502296a0-3259-4ec1-8333-e55c23cbdbd7"
      },
      "source": [
        "from sklearn.preprocessing import StandardScaler\n",
        "\n",
        "X = StandardScaler().fit_transform(X)"
      ],
      "execution_count": 4,
      "outputs": [
        {
          "output_type": "stream",
          "name": "stderr",
          "text": [
            "/usr/local/lib/python3.7/dist-packages/sklearn/utils/validation.py:590: FutureWarning: np.matrix usage is deprecated in 1.0 and will raise a TypeError in 1.2. Please convert to a numpy array with np.asarray. For more information see: https://numpy.org/doc/stable/reference/generated/numpy.matrix.html\n",
            "  FutureWarning,\n",
            "/usr/local/lib/python3.7/dist-packages/sklearn/utils/validation.py:590: FutureWarning: np.matrix usage is deprecated in 1.0 and will raise a TypeError in 1.2. Please convert to a numpy array with np.asarray. For more information see: https://numpy.org/doc/stable/reference/generated/numpy.matrix.html\n",
            "  FutureWarning,\n"
          ]
        }
      ]
    },
    {
      "cell_type": "code",
      "metadata": {
        "id": "7k4fhfI3rrVx"
      },
      "source": [
        "from sklearn.model_selection import train_test_split\n",
        "\n",
        "X_train, X_test, y_train, y_test = train_test_split(X, y)"
      ],
      "execution_count": 5,
      "outputs": []
    },
    {
      "cell_type": "code",
      "metadata": {
        "colab": {
          "base_uri": "https://localhost:8080/"
        },
        "id": "1XSZbiTgrrVx",
        "outputId": "44c8b2dd-438c-465f-f823-1cadc92b3e34"
      },
      "source": [
        "from sklearn.covariance import GraphicalLasso\n",
        "\n",
        "cov = GraphicalLasso(max_iter=1000).fit(X_train)\n",
        "\n",
        "A = cov.covariance_"
      ],
      "execution_count": 6,
      "outputs": [
        {
          "output_type": "stream",
          "name": "stderr",
          "text": [
            "/usr/local/lib/python3.7/dist-packages/sklearn/covariance/_graph_lasso.py:318: ConvergenceWarning: graphical_lasso: did not converge after 1000 iteration: dual gap: -1.703e+01\n",
            "  ConvergenceWarning,\n"
          ]
        }
      ]
    },
    {
      "cell_type": "code",
      "metadata": {
        "id": "ozFCw70OrrVy"
      },
      "source": [
        "def lossfn(U, w, x, A, lambda_=1e-5):\n",
        "    # U -> input, w -> label\n",
        "    f = np.mean( 1 / ( 1 + np.exp(np.dot(U, x) * w)) ) \n",
        "    g = lambda_ * np.linalg.norm(np.dot(A, x), ord=1)\n",
        "    return f + g"
      ],
      "execution_count": 7,
      "outputs": []
    },
    {
      "cell_type": "code",
      "metadata": {
        "id": "Q_Y6ityfrrVy"
      },
      "source": [
        "def gradf(U, w, x):\n",
        "    # U (n,d) ; w (n,1) ; x (d,1)\n",
        "    expfn = 1 / ( 1 + np.exp(np.dot(U, x) * w)) # (n,1)\n",
        "    return np.mean( expfn * ( expfn - 1 ) * (U * w), axis = 0).reshape(x.shape)"
      ],
      "execution_count": 8,
      "outputs": []
    },
    {
      "cell_type": "code",
      "metadata": {
        "id": "EUtMq1xirrVy"
      },
      "source": [
        "def soft_threshold(x, t=1):\n",
        "    return np.sign(x) * np.maximum( np.abs(x) - t, 0)\n",
        "\n",
        "def update_y(x, y, z, rho, A, lambda_):\n",
        "    return 1 / (rho + 1) * soft_threshold(rho * np.dot(A, x) + y - z, lambda_)"
      ],
      "execution_count": 9,
      "outputs": []
    },
    {
      "cell_type": "code",
      "metadata": {
        "id": "pOeP2FDFrrVz"
      },
      "source": [
        "def update_x(x, y, z, v, rho, eta, A):\n",
        "    return x - eta * ( v + rho * np.dot(A, (np.dot(A, x) - y - z / rho) ))"
      ],
      "execution_count": 10,
      "outputs": []
    },
    {
      "cell_type": "code",
      "metadata": {
        "id": "5PRGo_sdrrVz"
      },
      "source": [
        "def update_s(rho, A, B, z_1, z_0):\n",
        "    return rho * A.T @ B @ (z_1 - z_0)\n",
        "\n",
        "def update_r(A, B, x, z, c):\n",
        "    return A @ x + B @ z - c\n",
        "\n",
        "def update_rho(rho, r, s, mu=1.25, tau_incr=1.25, tau_decr=1.25):\n",
        "    r_n = np.linalg.norm(r, ord=2)\n",
        "    s_n = np.linalg.norm(s, ord=2)\n",
        "    if r_n > mu*s_n:\n",
        "        return tau_incr * rho\n",
        "    if s_n > mu*r_n:\n",
        "        return rho / tau_decr\n",
        "    return rho"
      ],
      "execution_count": 11,
      "outputs": []
    },
    {
      "cell_type": "code",
      "metadata": {
        "id": "JzgUZdaorrVz"
      },
      "source": [
        "# U = X_train\n",
        "# w = y_train\n",
        "def spider_admm(b, q, K, eta, rho, U, w, A, lambda_):\n",
        "    n, d = U.shape\n",
        "    x = np.zeros((d,1)) # ai^\\top x_i \n",
        "    y = np.zeros((d,1)) # Ay\n",
        "    z = np.zeros((d,1)) # \n",
        "    w = w.reshape((len(w), 1))\n",
        "    B = -np.eye(d)\n",
        "    c = np.zeros((d,1))\n",
        "    #dual residual\n",
        "    s = np.zeros((d,1))\n",
        "    #primal residual\n",
        "    r = np.zeros((d,1))\n",
        "\n",
        "    xprev = x.copy()\n",
        "    ind = np.random.permutation(np.arange(n))\n",
        "    i = 0\n",
        "    loss = []\n",
        "\n",
        "    for k in range(K):\n",
        "        if (k % q) == 0:\n",
        "            vk = gradf(U, w, x) # check how gradient is solved\n",
        "        else:\n",
        "            indb = ind[i:i+b]\n",
        "            i += b\n",
        "            if i >= n:\n",
        "                i = 0\n",
        "            Ub, wb = U[indb, :], w[indb, :]\n",
        "            vk = gradf(Ub, wb, x) - gradf(Ub, wb, xprev) + vk            \n",
        "        \n",
        "        # print(vk)\n",
        "        rho = update_rho(rho, r, s)\n",
        "        \n",
        "        y = update_y(x, y, z, rho, A, lambda_)\n",
        "        \n",
        "        xprev = x.copy()\n",
        "        x = update_x(x, y, z, vk, rho, eta, A)\n",
        "        \n",
        "        z_0 = z.copy()\n",
        "        z = z - rho * (A @ x + B @ y - c)\n",
        "        \n",
        "        s = update_s(rho, A, B, z_1=z, z_0=z_0)\n",
        "        r = update_r(A, B, x, z, c)\n",
        "\n",
        "        l = lossfn(U, w, x, A, lambda_)\n",
        "        \n",
        "        if k % 100 == 0:\n",
        "            # print(\"k:\", k, \"Loss:\", l)\n",
        "            print(\"k:\", k,\"rho:\",rho,\"r:\",np.linalg.norm(r, ord=2),\"s:\",np.linalg.norm(s, ord=2),\"Loss:\", l)\n",
        "        loss.append(l)\n",
        "    \n",
        "    return x, y, z, loss"
      ],
      "execution_count": 83,
      "outputs": []
    },
    {
      "cell_type": "code",
      "metadata": {
        "colab": {
          "base_uri": "https://localhost:8080/"
        },
        "id": "MMrnHGsnrrV0",
        "outputId": "eee3836b-5910-460f-b2da-f34b996cf67a"
      },
      "source": [
        "b = 32\n",
        "q = 10\n",
        "eta = 0.05\n",
        "rho = 0.5\n",
        "lambda_ = 1e-5\n",
        "K = 5000\n",
        "output_spider = spider_admm(b, q, K, eta, rho, X_train, y_train, A, lambda_)"
      ],
      "execution_count": 84,
      "outputs": [
        {
          "output_type": "stream",
          "name": "stdout",
          "text": [
            "k: 0 rho: 0.5 r: 0.08974119733835727 s: 0.06959822651037491 Loss: 0.496397769234622\n",
            "k: 100 rho: 1.52587890625 r: 2.624055141765728 s: 1.947205917692489 Loss: 0.3707637507393826\n",
            "k: 200 rho: 1.9073486328125 r: 4.085932714533483 s: 5.026744268235448 Loss: 0.33244362802034455\n",
            "k: 300 rho: 1.52587890625 r: 4.8631613854945845 s: 3.73112178178601 Loss: 0.315684231127299\n",
            "k: 400 rho: 1.52587890625 r: 5.431461458258783 s: 3.452288270748674 Loss: 0.3061672602745684\n",
            "k: 500 rho: 1.52587890625 r: 5.946284410967498 s: 3.821998243421808 Loss: 0.2995279966493502\n",
            "k: 600 rho: 1.52587890625 r: 6.505153715778069 s: 5.502613922409742 Loss: 0.2942041930748129\n",
            "k: 700 rho: 1.52587890625 r: 6.703686241488664 s: 4.3800145416507394 Loss: 0.2907875231259753\n",
            "k: 800 rho: 1.9073486328125 r: 7.145700165521839 s: 6.962613266717152 Loss: 0.2876791098798472\n",
            "k: 900 rho: 1.9073486328125 r: 7.4012737507949025 s: 7.322340906204209 Loss: 0.2848645864737989\n",
            "k: 1000 rho: 1.9073486328125 r: 7.646603914557312 s: 7.522966481081511 Loss: 0.2823498062615412\n",
            "k: 1100 rho: 1.9073486328125 r: 7.861148489639646 s: 7.668837406353422 Loss: 0.2800439889988245\n",
            "k: 1200 rho: 1.52587890625 r: 8.005224531131486 s: 6.106659930889097 Loss: 0.27788663940078373\n",
            "k: 1300 rho: 1.9073486328125 r: 8.371090705822223 s: 10.154662076292968 Loss: 0.2758940374300737\n",
            "k: 1400 rho: 1.52587890625 r: 8.336657184819922 s: 6.262095058745134 Loss: 0.2738973124339857\n",
            "k: 1500 rho: 1.52587890625 r: 8.489284880624599 s: 6.375048074545127 Loss: 0.2718120859814061\n",
            "k: 1600 rho: 1.9073486328125 r: 8.846338359392927 s: 10.748059905839305 Loss: 0.2698963067911498\n",
            "k: 1700 rho: 1.52587890625 r: 8.990352942275981 s: 8.541497685291171 Loss: 0.2679981518192966\n",
            "k: 1800 rho: 1.52587890625 r: 9.135970774489454 s: 8.760521769579526 Loss: 0.2658925085317627\n",
            "k: 1900 rho: 1.52587890625 r: 9.28463811006452 s: 8.73611075438225 Loss: 0.2640279720697456\n",
            "k: 2000 rho: 1.52587890625 r: 9.420880015692804 s: 8.913143057657138 Loss: 0.2620729237253658\n",
            "k: 2100 rho: 1.52587890625 r: 9.528268076618225 s: 8.993197831427107 Loss: 0.26014116548041577\n",
            "k: 2200 rho: 1.52587890625 r: 9.488162508610863 s: 6.4823318965108365 Loss: 0.2583159395915549\n",
            "k: 2300 rho: 1.52587890625 r: 9.632490113835063 s: 6.646593637965186 Loss: 0.2565414863510311\n",
            "k: 2400 rho: 1.52587890625 r: 9.923741184392721 s: 9.380455396510946 Loss: 0.25466153840874095\n",
            "k: 2500 rho: 1.52587890625 r: 9.836875871627901 s: 6.878717438155404 Loss: 0.25272865382477916\n",
            "k: 2600 rho: 1.52587890625 r: 9.960882410761977 s: 6.961037548746548 Loss: 0.25106741653175735\n",
            "k: 2700 rho: 1.52587890625 r: 10.271605814334801 s: 9.8760793353783 Loss: 0.24936360624594597\n",
            "k: 2800 rho: 1.9073486328125 r: 10.448306824462998 s: 13.178923520314134 Loss: 0.24748325813834243\n",
            "k: 2900 rho: 1.52587890625 r: 10.352702908686622 s: 8.8587096038599 Loss: 0.24583314699884035\n",
            "k: 3000 rho: 1.52587890625 r: 10.444558171450138 s: 8.075827504737083 Loss: 0.24414450816238553\n",
            "k: 3100 rho: 1.9073486328125 r: 10.624003516603706 s: 10.780489771808364 Loss: 0.24246151552443257\n",
            "k: 3200 rho: 1.52587890625 r: 10.695293281539927 s: 9.286928962615763 Loss: 0.2410844759529085\n",
            "k: 3300 rho: 1.52587890625 r: 10.838984632629465 s: 9.52783659963008 Loss: 0.23956453899368263\n",
            "k: 3400 rho: 1.52587890625 r: 10.966966666619289 s: 9.709472157103727 Loss: 0.23821362903547424\n",
            "k: 3500 rho: 1.52587890625 r: 10.914841143779746 s: 7.774837486254195 Loss: 0.2366073655772922\n",
            "k: 3600 rho: 1.52587890625 r: 11.039954023303586 s: 7.955753957925036 Loss: 0.23531965137242933\n",
            "k: 3700 rho: 1.9073486328125 r: 11.426629895323845 s: 14.182324266589974 Loss: 0.2341224570451839\n",
            "k: 3800 rho: 1.52587890625 r: 11.50755856348671 s: 11.539467499531007 Loss: 0.23298051711261333\n",
            "k: 3900 rho: 1.52587890625 r: 11.40784202744967 s: 8.427436282581876 Loss: 0.231692479945834\n",
            "k: 4000 rho: 1.9073486328125 r: 11.764533123170303 s: 14.70056126652573 Loss: 0.23050276586659565\n",
            "k: 4100 rho: 1.52587890625 r: 11.632059591640058 s: 8.903415082595316 Loss: 0.2291918583870765\n",
            "k: 4200 rho: 1.52587890625 r: 11.752098473908507 s: 10.119955869661696 Loss: 0.22806611176875866\n",
            "k: 4300 rho: 1.52587890625 r: 11.87661286063738 s: 8.981629683555516 Loss: 0.22699928140744802\n",
            "k: 4400 rho: 1.9073486328125 r: 12.06276885694677 s: 12.25374907349605 Loss: 0.22593956965273004\n",
            "k: 4500 rho: 1.52587890625 r: 11.925285148247847 s: 7.963076674245123 Loss: 0.2248118174293715\n",
            "k: 4600 rho: 1.52587890625 r: 12.251624250356823 s: 11.224062767882723 Loss: 0.22391962872657628\n",
            "k: 4700 rho: 1.52587890625 r: 12.35544957549503 s: 11.315365287387007 Loss: 0.22279507585991862\n",
            "k: 4800 rho: 1.52587890625 r: 12.451373345303022 s: 11.413592493719792 Loss: 0.2217962434402871\n",
            "k: 4900 rho: 1.9073486328125 r: 12.602385950661962 s: 14.513852902066864 Loss: 0.22085249474852048\n"
          ]
        }
      ]
    },
    {
      "cell_type": "code",
      "metadata": {
        "colab": {
          "base_uri": "https://localhost:8080/",
          "height": 567
        },
        "id": "sfJFvCglrrV0",
        "outputId": "2d075f85-324e-4617-e694-91876b78e7e4"
      },
      "source": [
        "plt.figure(figsize=(12,9))\n",
        "plt.plot(output_spider[-1])\n",
        "plt.xlabel(\"Iterations\")\n",
        "plt.ylabel(\"Loss\")\n",
        "plt.title(\"SPIDER-ADMM\")\n",
        "plt.show()"
      ],
      "execution_count": 61,
      "outputs": [
        {
          "output_type": "display_data",
          "data": {
            "image/png": "[encoded data removed]",
            "text/plain": [
              "<Figure size 864x648 with 1 Axes>"
            ]
          },
          "metadata": {
            "needs_background": "light"
          }
        }
      ]
    },
    {
      "cell_type": "code",
      "metadata": {
        "id": "XyZTLfhPpBGM"
      },
      "source": [
        "#U = X_train\n",
        "#w = y_train\n",
        "def SAGA_admm(K, eta, rho, U, w, A, lambda_):\n",
        "    d_z = {} # dictionary of z_s\n",
        "    \n",
        "    n, d = U.shape\n",
        "    x = np.zeros((d,1)) # x0\n",
        "    y = np.zeros((d,1)) # y0\n",
        "    lamb = np.zeros((d,1)) # init \n",
        "    w = w.reshape((len(w), 1))\n",
        "    B = -np.eye(d)\n",
        "    c = np.zeros((d,1))\n",
        "    #dual residual\n",
        "    s = np.zeros((d,1))\n",
        "    #primal residual\n",
        "    r = np.zeros((d,1))\n",
        "\n",
        "    \n",
        "    i = 0\n",
        "    loss = []\n",
        "    \n",
        "    # PSI INIT\n",
        "    psi  = gradf(U, w, np.zeros((d,1)))\n",
        "    \n",
        "    for k in range(K):\n",
        "        # Uniformly randomly pick i_t and j_t from [1,n]\n",
        "        it, jt = np.random.randint(n), np.random.randint(n)\n",
        "        \n",
        "        # Grab z (might have to fix this) is it really z_it ^ t\n",
        "        z = None\n",
        "        if it not in d_z:\n",
        "            d_z[it] = np.zeros((d,1))\n",
        "        if jt not in d_z:\n",
        "            d_z[jt] = np.zeros((d,1))\n",
        "        z = d_z[it]\n",
        "        \n",
        "        # Update rho\n",
        "        rho = update_rho(rho, r, s)\n",
        "        \n",
        "        # Update y\n",
        "        y = update_y(x, y, lamb, rho, A, lambda_)\n",
        "        \n",
        "        # Compute gradient\n",
        "        Ub, wb = U[it:it+1, :], w[it:it+1]\n",
        "        vk = gradf(Ub, wb, x) - gradf(Ub, wb, z) + psi\n",
        "        \n",
        "        # Update x\n",
        "        xprev = x.copy()\n",
        "        x = update_x(x, y, lamb, vk, rho, eta, A)\n",
        "        \n",
        "        # Update lamb\n",
        "        lamb_0 = lamb.copy()\n",
        "        lamb = lamb - rho * (A @ x + B @ y - c)\n",
        "        \n",
        "        # Update z\n",
        "        z_jt_prev = d_z[jt]\n",
        "        d_z[jt] = xprev\n",
        "        \n",
        "        # Update psi\n",
        "        Ub, wb = U[jt:jt+1, :], w[jt:jt+1]\n",
        "        psi = psi - 1/n * (gradf(Ub, wb,  z_jt_prev) - gradf(Ub, wb, d_z[jt]))\n",
        "        \n",
        "        # Update s/r\n",
        "        s = update_s(rho, A, B, z_1=lamb, z_0=lamb_0)\n",
        "        r = update_r(A, B, x, lamb, c)\n",
        "\n",
        "        l = lossfn(U, w, x, A, lambda_)\n",
        "        if k % 100 == 0:\n",
        "            # print(\"k:\", k, \"Loss:\", l)\n",
        "            print(\"k:\", k,\"rho:\",rho,\"r:\",np.linalg.norm(r, ord=2),\"s:\",np.linalg.norm(s, ord=2),\"Loss:\", l)\n",
        "        loss.append(l)\n",
        "    \n",
        "    return x, y, z, loss"
      ],
      "execution_count": 85,
      "outputs": []
    },
    {
      "cell_type": "code",
      "metadata": {
        "colab": {
          "base_uri": "https://localhost:8080/"
        },
        "id": "pPWlknQ0rrV1",
        "outputId": "7b50cc98-8fc9-42e9-d572-c7efb3df7e38"
      },
      "source": [
        "eta = 0.05\n",
        "rho = 0.5\n",
        "lambda_ = 1e-5\n",
        "K = 5000\n",
        "output_saga = SAGA_admm(K, eta, rho, X_train, y_train, A, lambda_)"
      ],
      "execution_count": 63,
      "outputs": [
        {
          "output_type": "stream",
          "name": "stdout",
          "text": [
            "k: 0 rho: 0.5 r: 0.08974119733835727 s: 0.06959822651037491 Loss: 0.496397769234622\n",
            "k: 100 rho: 1.9073486328125 r: 2.5250870666154457 s: 2.3665233241634356 Loss: 0.3680286448797923\n",
            "k: 200 rho: 1.9073486328125 r: 4.756806179135624 s: 4.687627881366656 Loss: 0.32337925526238753\n",
            "k: 300 rho: 2.384185791015625 r: 7.172565493136086 s: 30.426208172575407 Loss: 0.31188522468568064\n",
            "k: 400 rho: 1.220703125 r: 6.37469208193534 s: 2.3112618149295554 Loss: 0.3058874215221168\n",
            "k: 500 rho: 1.52587890625 r: 7.371563655942832 s: 5.5793624780791555 Loss: 0.3001806307488903\n",
            "k: 600 rho: 1.52587890625 r: 7.393526089330153 s: 9.582479264585425 Loss: 0.2989954230932993\n",
            "k: 700 rho: 1.9073486328125 r: 6.3946847837696374 s: 11.582005857197483 Loss: 0.3019898075521563\n",
            "k: 800 rho: 2.384185791015625 r: 7.778215006476327 s: 3.049239651605236 Loss: 0.2978223734189526\n",
            "k: 900 rho: 1.220703125 r: 9.582716337497354 s: 7.561223501865207 Loss: 0.28815615541474715\n",
            "k: 1000 rho: 1.52587890625 r: 10.83641973893552 s: 14.928721593343042 Loss: 0.28434482892891705\n",
            "k: 1100 rho: 1.52587890625 r: 8.810127259012564 s: 10.51067769613161 Loss: 0.28570051647371475\n",
            "k: 1200 rho: 1.52587890625 r: 9.410264327300142 s: 7.3146213902498385 Loss: 0.2854555616714111\n",
            "k: 1300 rho: 1.52587890625 r: 9.310596237270929 s: 11.043356404275237 Loss: 0.28327439953220857\n",
            "k: 1400 rho: 1.52587890625 r: 11.39821160229674 s: 10.797461184673356 Loss: 0.2761538210908522\n",
            "k: 1500 rho: 1.52587890625 r: 11.339142551265576 s: 8.136526917008881 Loss: 0.28061954781055715\n",
            "k: 1600 rho: 1.52587890625 r: 11.656281947272541 s: 9.625316658365948 Loss: 0.2836090912209455\n",
            "k: 1700 rho: 1.9073486328125 r: 11.775448262154963 s: 8.434116338484259 Loss: 0.28354895234718686\n",
            "k: 1800 rho: 1.52587890625 r: 12.818962200956701 s: 11.920178011639901 Loss: 0.27997799884758634\n",
            "k: 1900 rho: 1.52587890625 r: 12.570439506389624 s: 11.033940495052079 Loss: 0.2810633301381602\n",
            "k: 2000 rho: 1.52587890625 r: 13.129294716173835 s: 12.325795636820779 Loss: 0.2834699359685272\n",
            "k: 2100 rho: 1.9073486328125 r: 14.427514279940642 s: 24.65562929727592 Loss: 0.2862302888010644\n",
            "k: 2200 rho: 1.220703125 r: 14.028190073796658 s: 8.380870298606908 Loss: 0.2863337494824606\n",
            "k: 2300 rho: 1.9073486328125 r: 13.427216434285112 s: 15.129599731084719 Loss: 0.28810236719322657\n",
            "k: 2400 rho: 1.52587890625 r: 13.727126406615607 s: 15.956553244343866 Loss: 0.2912009087519166\n",
            "k: 2500 rho: 1.9073486328125 r: 13.43671316441125 s: 12.288157613468282 Loss: 0.29059848864565874\n",
            "k: 2600 rho: 1.52587890625 r: 14.002895191083788 s: 10.408809239787 Loss: 0.2893714129916752\n",
            "k: 2700 rho: 1.52587890625 r: 13.885320726370068 s: 12.13536778368217 Loss: 0.2926337024741425\n",
            "k: 2800 rho: 1.9073486328125 r: 13.993444718307789 s: 13.788058693911363 Loss: 0.28798389503729493\n",
            "k: 2900 rho: 1.9073486328125 r: 14.776040613593056 s: 16.385426756017065 Loss: 0.28521619507755647\n",
            "k: 3000 rho: 1.52587890625 r: 15.309167876621038 s: 13.72468596213493 Loss: 0.2842203494576643\n",
            "k: 3100 rho: 1.52587890625 r: 14.780471851889603 s: 12.6571927607952 Loss: 0.2889588356417276\n",
            "k: 3200 rho: 1.9073486328125 r: 15.356639623610961 s: 25.894804657771974 Loss: 0.29131214236716085\n",
            "k: 3300 rho: 2.384185791015625 r: 14.708849004930972 s: 19.144083494684494 Loss: 0.2911258272883018\n",
            "k: 3400 rho: 1.52587890625 r: 15.297905963800403 s: 11.830648480883736 Loss: 0.28785396711300826\n",
            "k: 3500 rho: 1.52587890625 r: 15.409023464844608 s: 16.492777860529046 Loss: 0.28592458312733016\n",
            "k: 3600 rho: 1.9073486328125 r: 15.08269243179196 s: 18.122096989882365 Loss: 0.28671982236487303\n",
            "k: 3700 rho: 1.52587890625 r: 14.92630781597951 s: 13.495918259795873 Loss: 0.2870796177737087\n",
            "k: 3800 rho: 1.9073486328125 r: 15.840038918762987 s: 15.735015065113442 Loss: 0.2845243250527307\n",
            "k: 3900 rho: 1.52587890625 r: 15.375564006192587 s: 12.14269900267246 Loss: 0.28928529495911787\n",
            "k: 4000 rho: 1.52587890625 r: 16.024083731806773 s: 11.692618747224968 Loss: 0.2882964180892301\n",
            "k: 4100 rho: 1.52587890625 r: 16.221656215480262 s: 16.94323826065136 Loss: 0.28251702341295953\n",
            "k: 4200 rho: 1.52587890625 r: 16.481687039868415 s: 15.185453877159377 Loss: 0.2824360155903031\n",
            "k: 4300 rho: 1.9073486328125 r: 15.995951835503172 s: 12.975094953502463 Loss: 0.2857565765758045\n",
            "k: 4400 rho: 1.9073486328125 r: 16.97115439696812 s: 21.94694823574115 Loss: 0.2838165482675922\n",
            "k: 4500 rho: 1.52587890625 r: 16.604421220736146 s: 10.440540559388921 Loss: 0.28325699863813486\n",
            "k: 4600 rho: 1.52587890625 r: 16.939002490919993 s: 10.946147865416485 Loss: 0.28035530159509786\n",
            "k: 4700 rho: 1.9073486328125 r: 17.637307065889388 s: 21.75111295289023 Loss: 0.27047983298341133\n",
            "k: 4800 rho: 1.9073486328125 r: 17.492583838612628 s: 20.276438633671567 Loss: 0.27262833660489894\n",
            "k: 4900 rho: 1.52587890625 r: 17.743459070658957 s: 15.214388646856769 Loss: 0.26956805200154277\n"
          ]
        }
      ]
    },
    {
      "cell_type": "code",
      "metadata": {
        "colab": {
          "base_uri": "https://localhost:8080/",
          "height": 567
        },
        "id": "gAUtwnivrrV2",
        "outputId": "4f72a9f3-b827-400a-96a2-d3b7721a5d77"
      },
      "source": [
        "plt.figure(figsize=(12,9))\n",
        "plt.plot(output_saga[-1])\n",
        "plt.xlabel(\"Iterations\")\n",
        "plt.ylabel(\"Loss\")\n",
        "plt.title(\"SAGA-ADMM\")\n",
        "plt.show()"
      ],
      "execution_count": 64,
      "outputs": [
        {
          "output_type": "display_data",
          "data": {
            "image/png": "[encoded data removed]",
            "text/plain": [
              "<Figure size 864x648 with 1 Axes>"
            ]
          },
          "metadata": {
            "needs_background": "light"
          }
        }
      ]
    },
    {
      "cell_type": "code",
      "metadata": {
        "id": "ZZGqWF4ErrV2"
      },
      "source": [
        "def svrg_admm(m, T, eta, rho, U, w, A, lambda_):\n",
        "    n, d = U.shape\n",
        "    x = np.zeros((d,1)) # ai^\\top x_i \n",
        "    y = np.zeros((d,1)) # Ay\n",
        "    z = np.zeros((d,1)) # \n",
        "    w = w.reshape((len(w), 1))\n",
        "    B = -np.eye(d)\n",
        "    c = np.zeros((d,1))\n",
        "    #dual residual\n",
        "    s = np.zeros((d,1))\n",
        "    #primal residual\n",
        "    r = np.zeros((d,1))\n",
        "\n",
        "    S = T // m # No. of epochs\n",
        "    xs = x.copy()\n",
        "    loss = []\n",
        "\n",
        "    for e in range(S):\n",
        "        dxs = gradf(U, w, xs)\n",
        "        for t in range(m):\n",
        "            i = np.random.randint(n)\n",
        "            rho = update_rho(rho, r, s)\n",
        "            \n",
        "            y = update_y(x, y, z, rho, A, lambda_)\n",
        "\n",
        "            Ub, wb = U[i:i+1, :], w[i:i+1,:]\n",
        "            dx = gradf(Ub, wb, x) - gradf(Ub, wb, xs) + dxs\n",
        "            \n",
        "            x = update_x(x, y, z, dx, rho, eta, A)\n",
        "            \n",
        "            z_0 = z.copy()\n",
        "            z = z - rho * (A @ x + B @ y - c)\n",
        "            \n",
        "            s = update_s(rho, A, B, z_1=z, z_0=z_0)\n",
        "            r = update_r(A, B, x, z, c)\n",
        "\n",
        "            l = lossfn(U, w, x, A, lambda_)\n",
        "            \n",
        "            k = e * m + t\n",
        "            if k % 100 == 0:\n",
        "                # print(\"k:\", k, \"Loss:\", l)\n",
        "                print(\"k:\", k,\"rho:\",rho,\"r:\",np.linalg.norm(r, ord=2),\"s:\",np.linalg.norm(s, ord=2),\"Loss:\", l)\n",
        "            loss.append(l)\n",
        "        \n",
        "        xs = x.copy()\n",
        "\n",
        "    \n",
        "    return x, y, z, loss"
      ],
      "execution_count": 86,
      "outputs": []
    },
    {
      "cell_type": "code",
      "metadata": {
        "colab": {
          "base_uri": "https://localhost:8080/"
        },
        "id": "YJknBrIpwL7z",
        "outputId": "b2193c40-6288-419d-d12b-ac2b14898ea9"
      },
      "source": [
        "eta = 0.05\n",
        "rho = 0.5\n",
        "lambda_ = 1e-5\n",
        "m = 10\n",
        "T = 5000\n",
        "output_svrg = svrg_admm(m, T, eta, rho, X_train, y_train, A, lambda_)"
      ],
      "execution_count": 87,
      "outputs": [
        {
          "output_type": "stream",
          "name": "stdout",
          "text": [
            "k: 0 rho: 0.5 r: 0.08974119733835727 s: 0.06959822651037491 Loss: 0.496397769234622\n",
            "k: 100 rho: 1.9073486328125 r: 2.6288130685828737 s: 2.3390607450834016 Loss: 0.3715114796140156\n",
            "k: 200 rho: 1.52587890625 r: 3.939857855092965 s: 2.538682410322596 Loss: 0.3325302825910614\n",
            "k: 300 rho: 1.9073486328125 r: 4.921464182838708 s: 5.5176743168477165 Loss: 0.315619805285404\n",
            "k: 400 rho: 1.52587890625 r: 5.4667189736119095 s: 3.868055498304367 Loss: 0.30595805633587453\n",
            "k: 500 rho: 1.9073486328125 r: 6.103610485401059 s: 7.404052725956326 Loss: 0.2994751973260855\n",
            "k: 600 rho: 1.52587890625 r: 6.3344557908651895 s: 4.517954884849036 Loss: 0.2947800687400689\n",
            "k: 700 rho: 1.52587890625 r: 6.81372239145451 s: 6.526530808471631 Loss: 0.2905487049094795\n",
            "k: 800 rho: 1.9073486328125 r: 7.132849003692194 s: 8.206439573815075 Loss: 0.287688885142169\n",
            "k: 900 rho: 1.9073486328125 r: 7.359595471772792 s: 7.429653827748824 Loss: 0.2849121326390988\n",
            "k: 1000 rho: 1.52587890625 r: 7.521706339503413 s: 5.534606712771326 Loss: 0.2822396650793161\n",
            "k: 1100 rho: 1.52587890625 r: 7.783245896448722 s: 6.668174645809453 Loss: 0.27981178237737536\n",
            "k: 1200 rho: 1.52587890625 r: 8.05777900117559 s: 7.261313487563333 Loss: 0.2775796941748903\n",
            "k: 1300 rho: 1.52587890625 r: 8.22184788803171 s: 7.100288293196605 Loss: 0.2754165604206499\n",
            "k: 1400 rho: 1.9073486328125 r: 8.388331136425409 s: 7.796992381141035 Loss: 0.2733825124890666\n",
            "k: 1500 rho: 1.9073486328125 r: 8.611841547480315 s: 9.542526045917551 Loss: 0.27122362479188605\n",
            "k: 1600 rho: 1.52587890625 r: 8.539590932694992 s: 5.525484318232741 Loss: 0.2690553728495938\n",
            "k: 1700 rho: 1.9073486328125 r: 8.930583609081031 s: 10.351728876431931 Loss: 0.2670278622370891\n",
            "k: 1800 rho: 1.9073486328125 r: 9.046073802642459 s: 10.018653498388396 Loss: 0.2649733724654015\n",
            "k: 1900 rho: 1.52587890625 r: 9.179203756429311 s: 8.28696698958108 Loss: 0.2628317041685709\n",
            "k: 2000 rho: 1.52587890625 r: 9.27619223679304 s: 7.594554396215982 Loss: 0.260898740574899\n",
            "k: 2100 rho: 1.52587890625 r: 9.418310502578846 s: 8.108855694633599 Loss: 0.2589333291632816\n",
            "k: 2200 rho: 1.9073486328125 r: 9.652358761280775 s: 11.143421148579547 Loss: 0.2569669596001539\n",
            "k: 2300 rho: 1.52587890625 r: 9.716114131542023 s: 8.56192920301351 Loss: 0.2551329565275398\n",
            "k: 2400 rho: 1.9073486328125 r: 9.927398531580215 s: 11.254116375897267 Loss: 0.2533479182068813\n",
            "k: 2500 rho: 1.52587890625 r: 9.921269501718118 s: 7.456372002532148 Loss: 0.25163926053591495\n",
            "k: 2600 rho: 1.52587890625 r: 10.20763113814411 s: 9.82309606789837 Loss: 0.24999055458901234\n",
            "k: 2700 rho: 1.52587890625 r: 10.142684090420184 s: 7.5155668158382705 Loss: 0.24816473411290693\n",
            "k: 2800 rho: 1.9073486328125 r: 10.51795110030563 s: 13.230302123052041 Loss: 0.24651170317953242\n",
            "k: 2900 rho: 1.9073486328125 r: 10.521758845256574 s: 12.20660215377242 Loss: 0.24480384007015324\n",
            "k: 3000 rho: 1.52587890625 r: 10.432459875035425 s: 7.5316216651729535 Loss: 0.2431923302834373\n",
            "k: 3100 rho: 1.52587890625 r: 10.653716409698411 s: 9.262687725431581 Loss: 0.24172189069518144\n",
            "k: 3200 rho: 1.52587890625 r: 10.703933160451834 s: 8.094632888790294 Loss: 0.24004991554038513\n",
            "k: 3300 rho: 1.52587890625 r: 10.786828965173534 s: 8.112267573755418 Loss: 0.23869225959085552\n",
            "k: 3400 rho: 1.52587890625 r: 11.041599738448674 s: 10.280236747729264 Loss: 0.23747813660832612\n",
            "k: 3500 rho: 1.9073486328125 r: 11.20770351204866 s: 12.711234929326794 Loss: 0.23617900478451742\n",
            "k: 3600 rho: 1.9073486328125 r: 11.426745057162472 s: 14.406043135530446 Loss: 0.2349652570319389\n",
            "k: 3700 rho: 1.52587890625 r: 11.303361614644263 s: 9.55377841263737 Loss: 0.23365076852048036\n",
            "k: 3800 rho: 1.52587890625 r: 11.358838539323235 s: 8.2970609112587 Loss: 0.2323525348992822\n",
            "k: 3900 rho: 1.52587890625 r: 11.365997036117918 s: 7.597220126248184 Loss: 0.2309532815176975\n",
            "k: 4000 rho: 1.52587890625 r: 11.629720796797653 s: 9.99821782387824 Loss: 0.22983085178712007\n",
            "k: 4100 rho: 1.52587890625 r: 11.74026927373906 s: 10.232513753352235 Loss: 0.22870174294281184\n",
            "k: 4200 rho: 1.9073486328125 r: 11.86790572663916 s: 13.152040702601996 Loss: 0.22725954996800016\n",
            "k: 4300 rho: 1.9073486328125 r: 11.9940666202273 s: 13.606080708399809 Loss: 0.22612742043432024\n",
            "k: 4400 rho: 1.52587890625 r: 11.953962816842196 s: 9.054950848800376 Loss: 0.22501823205600255\n",
            "k: 4500 rho: 1.9073486328125 r: 12.113325883406414 s: 11.752117201750483 Loss: 0.2239681735485297\n",
            "k: 4600 rho: 1.9073486328125 r: 12.363940291376847 s: 14.962923737410582 Loss: 0.22310888297668546\n",
            "k: 4700 rho: 1.9073486328125 r: 12.478078860885436 s: 15.026464494409396 Loss: 0.22219796312663762\n",
            "k: 4800 rho: 1.52587890625 r: 12.563904605505757 s: 12.042313266738725 Loss: 0.22157647376272066\n",
            "k: 4900 rho: 1.9073486328125 r: 12.697658512721697 s: 15.115771180404193 Loss: 0.22050368124569505\n"
          ]
        }
      ]
    },
    {
      "cell_type": "code",
      "metadata": {
        "colab": {
          "base_uri": "https://localhost:8080/",
          "height": 567
        },
        "id": "GP4F2wQtwYBD",
        "outputId": "462537b5-7987-4f52-cb20-c1f21e2cddf4"
      },
      "source": [
        "plt.figure(figsize=(12,9))\n",
        "plt.plot(output_svrg[-1])\n",
        "plt.xlabel(\"Iterations\")\n",
        "plt.ylabel(\"Loss\")\n",
        "plt.title(\"SVRG-ADMM\")\n",
        "plt.show()"
      ],
      "execution_count": 68,
      "outputs": [
        {
          "output_type": "display_data",
          "data": {
            "image/png": "[encoded data removed]",
            "text/plain": [
              "<Figure size 864x648 with 1 Axes>"
            ]
          },
          "metadata": {
            "needs_background": "light"
          }
        }
      ]
    },
    {
      "cell_type": "code",
      "metadata": {
        "id": "hy7iedyL4I_z"
      },
      "source": [
        "def s_admm(K, eta, rho, U, w, A, lambda_):\n",
        "    n, d = U.shape\n",
        "    x = np.zeros((d,1)) # ai^\\top x_i \n",
        "    y = np.zeros((d,1)) # Ay\n",
        "    z = np.zeros((d,1)) # \n",
        "    w = w.reshape((len(w), 1))\n",
        "    B = -np.eye(d)\n",
        "    c = np.zeros((d,1))\n",
        "    #dual residual\n",
        "    s = np.zeros((d,1))\n",
        "    #primal residual\n",
        "    r = np.zeros((d,1))\n",
        "\n",
        "    loss = []\n",
        "\n",
        "    for k in range(K):\n",
        "        i = np.random.randint(n)\n",
        "        rho = update_rho(rho, r, s)\n",
        "        \n",
        "        y = update_y(x, y, z, rho, A, lambda_)\n",
        "\n",
        "        Ub, wb = U[i:i+1, :], w[i:i+1,:]\n",
        "        dx = gradf(Ub, wb, x)\n",
        "        \n",
        "        x = update_x(x, y, z, dx, rho, eta, A)\n",
        "        \n",
        "        z_0 = z.copy()\n",
        "        z = z - rho * (A @ x + B @ y - c)\n",
        "        \n",
        "        s = update_s(rho, A, B, z_1=z, z_0=z_0)\n",
        "        r = update_r(A, B, x, z, c)\n",
        "\n",
        "        l = lossfn(U, w, x, A, lambda_)\n",
        "        \n",
        "        # print(\"k:\", k, \"Loss:\", l)\n",
        "        if k % 100 == 0:\n",
        "            print(\"k:\", k,\"rho:\",rho,\"r:\",np.linalg.norm(r, ord=2),\"s:\",np.linalg.norm(s, ord=2),\"Loss:\", l)\n",
        "        \n",
        "        loss.append(l)\n",
        "    \n",
        "    \n",
        "    \n",
        "    return x, y, z, loss"
      ],
      "execution_count": 69,
      "outputs": []
    },
    {
      "cell_type": "code",
      "metadata": {
        "colab": {
          "base_uri": "https://localhost:8080/"
        },
        "id": "RXEWwGg26v_O",
        "outputId": "0702bd74-63e2-4abd-9886-a04330dce89a"
      },
      "source": [
        "eta = 0.05\n",
        "rho = 0.5\n",
        "lambda_ = 1e-5\n",
        "K = 5000\n",
        "output_s = s_admm(K, eta, rho, X_train, y_train, A, lambda_)"
      ],
      "execution_count": 70,
      "outputs": [
        {
          "output_type": "stream",
          "name": "stdout",
          "text": [
            "k: 0 rho: 0.5 r: 0.39358299173261657 s: 0.2474409147708741 Loss: 0.48995151367188383\n",
            "k: 100 rho: 1.52587890625 r: 2.735470175687645 s: 1.5546537445969526 Loss: 0.3880809892114666\n",
            "k: 200 rho: 1.9073486328125 r: 4.189420180832604 s: 0.4900026021861658 Loss: 0.3480520760883321\n",
            "k: 300 rho: 1.9073486328125 r: 5.247695750497774 s: 3.9823379055787917 Loss: 0.33458618001204354\n",
            "k: 400 rho: 1.9073486328125 r: 5.0807478045798105 s: 5.996385740553776 Loss: 0.3268557966826871\n",
            "k: 500 rho: 1.9073486328125 r: 5.520181649804299 s: 6.805376086326459 Loss: 0.31448021179214997\n",
            "k: 600 rho: 1.52587890625 r: 6.126494621456291 s: 6.2611509534079355 Loss: 0.30724280649148444\n",
            "k: 700 rho: 1.52587890625 r: 6.246717580836473 s: 4.9544133940498325 Loss: 0.3100923819363325\n",
            "k: 800 rho: 1.9073486328125 r: 6.149834568868048 s: 9.984746106611436 Loss: 0.3069777186965667\n",
            "k: 900 rho: 1.52587890625 r: 6.880743258310381 s: 5.64973874231518 Loss: 0.300379108488264\n",
            "k: 1000 rho: 1.9073486328125 r: 7.2054603581666266 s: 9.355393177874344 Loss: 0.2969040762267284\n",
            "k: 1100 rho: 1.52587890625 r: 7.3864587804684225 s: 8.797074348028534 Loss: 0.2966199472797111\n",
            "k: 1200 rho: 1.52587890625 r: 7.84714056667544 s: 5.9349760679348265 Loss: 0.29399719443894745\n",
            "k: 1300 rho: 1.52587890625 r: 8.06566445702815 s: 6.529685226033103 Loss: 0.2913755302767884\n",
            "k: 1400 rho: 1.9073486328125 r: 8.186017754295293 s: 10.5934303343491 Loss: 0.28936978700329796\n",
            "k: 1500 rho: 1.9073486328125 r: 8.413848033051186 s: 9.233260982773752 Loss: 0.2871876143352284\n",
            "k: 1600 rho: 1.9073486328125 r: 8.230251771316341 s: 14.465626836316117 Loss: 0.28631509914035425\n",
            "k: 1700 rho: 1.9073486328125 r: 8.547653015159554 s: 12.1834678816293 Loss: 0.2860216632074447\n",
            "k: 1800 rho: 1.9073486328125 r: 8.571813530179542 s: 12.262952524426522 Loss: 0.28511693963186363\n",
            "k: 1900 rho: 1.52587890625 r: 8.877785733740323 s: 7.295988685297633 Loss: 0.28415911839706165\n",
            "k: 2000 rho: 1.9073486328125 r: 8.939436684053227 s: 10.02147062927039 Loss: 0.2842661079741237\n",
            "k: 2100 rho: 1.52587890625 r: 9.151848320495906 s: 8.959852639324506 Loss: 0.2826225676366866\n",
            "k: 2200 rho: 1.9073486328125 r: 9.086991111530052 s: 13.91472730011715 Loss: 0.2831816704587615\n",
            "k: 2300 rho: 1.52587890625 r: 9.301751150009693 s: 9.05170079234846 Loss: 0.2835561570329265\n",
            "k: 2400 rho: 1.9073486328125 r: 9.210578566607591 s: 14.434689357595978 Loss: 0.2844383116174698\n",
            "k: 2500 rho: 1.9073486328125 r: 9.551737007348995 s: 12.189504394599949 Loss: 0.2851983708894368\n",
            "k: 2600 rho: 1.9073486328125 r: 9.65105834827007 s: 11.945091504644942 Loss: 0.28452160802955534\n",
            "k: 2700 rho: 1.9073486328125 r: 9.78410196509845 s: 12.989704973976009 Loss: 0.28362761432181466\n",
            "k: 2800 rho: 1.9073486328125 r: 10.140234953795837 s: 10.668185567553952 Loss: 0.28159382544211037\n",
            "k: 2900 rho: 1.52587890625 r: 10.379146837030076 s: 8.421020209359451 Loss: 0.28064151498164885\n",
            "k: 3000 rho: 1.9073486328125 r: 10.188296817241483 s: 15.423348562659191 Loss: 0.28019178212410895\n",
            "k: 3100 rho: 1.9073486328125 r: 10.459993647147304 s: 12.161112066988704 Loss: 0.27949807196479676\n",
            "k: 3200 rho: 1.52587890625 r: 10.727416342730224 s: 9.577432554578655 Loss: 0.2782350134811748\n",
            "k: 3300 rho: 1.9073486328125 r: 10.72471916046637 s: 13.304204356276797 Loss: 0.27725164341703207\n",
            "k: 3400 rho: 1.9073486328125 r: 10.831520438845237 s: 12.794389569845874 Loss: 0.2765124582753871\n",
            "k: 3500 rho: 1.9073486328125 r: 10.792458599421876 s: 15.443468388032706 Loss: 0.2757871685375878\n",
            "k: 3600 rho: 1.9073486328125 r: 11.009417451051968 s: 12.423615878005496 Loss: 0.2753377699343253\n",
            "k: 3700 rho: 1.52587890625 r: 11.187580000579421 s: 9.472932449155973 Loss: 0.27478459198794425\n",
            "k: 3800 rho: 1.9073486328125 r: 10.983632595791008 s: 15.247493904229469 Loss: 0.274011380711672\n",
            "k: 3900 rho: 1.52587890625 r: 11.361970967825625 s: 9.085704023247064 Loss: 0.2738980318675881\n",
            "k: 4000 rho: 1.52587890625 r: 11.446198922119327 s: 9.050249633229285 Loss: 0.2723340834420866\n",
            "k: 4100 rho: 1.52587890625 r: 11.538533949028572 s: 8.933259583878293 Loss: 0.27208370081585015\n",
            "k: 4200 rho: 1.52587890625 r: 11.73622382358075 s: 8.84424790919635 Loss: 0.271462984728012\n",
            "k: 4300 rho: 1.9073486328125 r: 11.420986124490465 s: 16.894295894454963 Loss: 0.27125208403344325\n",
            "k: 4400 rho: 1.52587890625 r: 11.700204039341994 s: 11.499524067545579 Loss: 0.26978387203520304\n",
            "k: 4500 rho: 1.52587890625 r: 11.858387803431798 s: 10.954281741349366 Loss: 0.2703515805719496\n",
            "k: 4600 rho: 1.52587890625 r: 11.983417214941182 s: 9.593597608305986 Loss: 0.26960630153018783\n",
            "k: 4700 rho: 1.9073486328125 r: 11.929930394453208 s: 13.880628393726179 Loss: 0.27036337557486967\n",
            "k: 4800 rho: 1.9073486328125 r: 11.542559708972012 s: 20.11572811054795 Loss: 0.27007247305920756\n",
            "k: 4900 rho: 1.9073486328125 r: 12.105014004183719 s: 13.65197452702222 Loss: 0.2686140887865996\n"
          ]
        }
      ]
    },
    {
      "cell_type": "code",
      "metadata": {
        "colab": {
          "base_uri": "https://localhost:8080/",
          "height": 567
        },
        "id": "k0r4AD2z7HrR",
        "outputId": "d18f7433-0b0c-48c6-fce7-720999bf6281"
      },
      "source": [
        "plt.figure(figsize=(12,9))\n",
        "plt.plot(output_s[-1])\n",
        "plt.xlabel(\"Iterations\")\n",
        "plt.ylabel(\"Loss\")\n",
        "plt.title(\"S-ADMM\")\n",
        "plt.show()"
      ],
      "execution_count": 71,
      "outputs": [
        {
          "output_type": "display_data",
          "data": {
            "image/png": "[encoded data removed]",
            "text/plain": [
              "<Figure size 864x648 with 1 Axes>"
            ]
          },
          "metadata": {
            "needs_background": "light"
          }
        }
      ]
    },
    {
      "cell_type": "code",
      "metadata": {
        "colab": {
          "base_uri": "https://localhost:8080/",
          "height": 551
        },
        "id": "aLUm2MB7_K53",
        "outputId": "63ab5215-3e28-4c33-b87a-45b160258ea3"
      },
      "source": [
        "plt.figure(figsize=(12,9))\n",
        "plt.plot(output_s[-1], label='S-ADMM')\n",
        "plt.plot(output_svrg[-1], label='SVRG-ADMM')\n",
        "plt.plot(output_saga[-1], label='SAGA-ADMM')\n",
        "plt.plot(output_spider[-1], label='SPIDER-ADMM')\n",
        "plt.legend()\n",
        "plt.xlabel(\"Iterations\")\n",
        "plt.ylabel(\"Loss\")\n",
        "plt.savefig('admm.png', dpi=200)\n",
        "plt.show()"
      ],
      "execution_count": 90,
      "outputs": [
        {
          "output_type": "display_data",
          "data": {
            "image/png": "[encoded data removed]",
            "text/plain": [
              "<Figure size 864x648 with 1 Axes>"
            ]
          },
          "metadata": {
            "needs_background": "light"
          }
        }
      ]
    }
  ]
}