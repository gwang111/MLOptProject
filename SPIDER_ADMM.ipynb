{
 "cells": [
  {
   "cell_type": "code",
   "execution_count": 1,
   "metadata": {
    "id": "bm1m2sVkexQS"
   },
   "outputs": [],
   "source": [
    "import numpy as np"
   ]
  },
  {
   "cell_type": "code",
   "execution_count": 33,
   "metadata": {},
   "outputs": [],
   "source": [
    "from sklearn.datasets import load_svmlight_file\n",
    "from scipy.sparse import csr_matrix\n",
    "import numpy as np\n",
    "\n",
    "# Supported files:\n",
    "# 1. a9a.txt\n",
    "# 2. w8a.txt\n",
    "# 3. ijcnn1\n",
    "# 4. covtype.libsvm.binary\n",
    "\n",
    "def data_loader(file_name='a9a.txt'):\n",
    "    # Load in data and get rid of last column\n",
    "    X, y = load_svmlight_file(file_name)\n",
    "    \n",
    "    # Convert to numpy array\n",
    "    X = X.todense()\n",
    "    return X, y\n",
    "\n"
   ]
  },
  {
   "cell_type": "code",
   "execution_count": 34,
   "metadata": {},
   "outputs": [
    {
     "name": "stdout",
     "output_type": "stream",
     "text": [
      "(581012, 54)\n"
     ]
    }
   ],
   "source": [
    "X, y = data_loader('covtype.libsvm.binary')\n",
    "\n",
    "print(X.shape)"
   ]
  },
  {
   "cell_type": "code",
   "execution_count": null,
   "metadata": {
    "id": "XyZTLfhPpBGM"
   },
   "outputs": [],
   "source": [
    "# if we want to use pytorch to calculate the sgd of f(x)\n",
    "# class f(torch.nn.Module):"
   ]
  },
  {
   "cell_type": "code",
   "execution_count": 2,
   "metadata": {
    "id": "o8GQ0PNsfC85"
   },
   "outputs": [],
   "source": [
    "def lagrangian(x_k, y_k1, y_j, y_k, z_k): pass\n",
    "\n",
    "def lagrangian_hat(x, y_k1, z_k, v_k): pass"
   ]
  },
  {
   "cell_type": "code",
   "execution_count": null,
   "metadata": {
    "id": "q3UlfJPkjcIh"
   },
   "outputs": [],
   "source": [
    "def reg_vk(k, q, ...):\n",
    "    # use some sgd library?\n",
    "    if k % q == 0:\n",
    "        vk = ...\n",
    "    else:\n",
    "        vk = ...\n",
    "\n",
    "    return vk\n",
    "\n",
    "# implement later\n",
    "# def online_vk(k, q, ...):\n",
    "#     if k % q == 0:\n",
    "#         vk = ...\n",
    "#     else:\n",
    "#         vk = ...\n",
    "\n",
    "#     return vk"
   ]
  },
  {
   "cell_type": "code",
   "execution_count": null,
   "metadata": {
    "id": "RKCsRAiUf24m"
   },
   "outputs": [],
   "source": [
    "# Let b1 = None unless performing online algo (rename if necessary)\n",
    "def spider_admm(b1, b2, q, K, n, p):\n",
    "    # init\n",
    "    x_k = ...\n",
    "    j = ...\n",
    "    y_k = ...\n",
    "    z_k = ...\n",
    "    \n",
    "    for k in range(K):\n",
    "        if b1 is None: \n",
    "            vk = reg_vk(k, q, ...)\n",
    "        else: \n",
    "            # implement later\n",
    "            # vk = online_vk(k, q, ...)\n",
    "        \n",
    "        # update k + 1 for y, x, z\n",
    "        # probably do not need separate k + 1 variables\n",
    "\n",
    "        # using lagrangian\n",
    "        lagrs = []\n",
    "        for j in range(m):\n",
    "            y_k[j] = np.argmin(...)\n",
    "\n",
    "        # using lagrangian hat\n",
    "        lagr_hats = []\n",
    "        x_k = np.argmin(...)\n",
    "\n",
    "        z_k = ...\n",
    "\n",
    "    return [x_k, y_k, z_k]\n",
    "\n",
    "def online_spider_admm(b1, b2, q, K, n, p): \n",
    "    return spider_admm(b1, b2, q, K, n, p)"
   ]
  }
 ],
 "metadata": {
  "colab": {
   "authorship_tag": "ABX9TyOBYjnlybiikkskggvGsSq7",
   "collapsed_sections": [],
   "name": "SPIDER-ADMM.ipynb",
   "provenance": []
  },
  "kernelspec": {
   "display_name": "Python 3",
   "language": "python",
   "name": "python3"
  },
  "language_info": {
   "codemirror_mode": {
    "name": "ipython",
    "version": 3
   },
   "file_extension": ".py",
   "mimetype": "text/x-python",
   "name": "python",
   "nbconvert_exporter": "python",
   "pygments_lexer": "ipython3",
   "version": "3.8.5"
  }
 },
 "nbformat": 4,
 "nbformat_minor": 1
}
